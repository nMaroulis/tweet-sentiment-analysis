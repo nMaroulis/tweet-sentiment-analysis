{
 "cells": [
  {
   "cell_type": "markdown",
   "metadata": {
    "_cell_guid": "c6d2e89b-a438-4ae6-a76b-f56e1c729da9",
    "_uuid": "39fda37f-a201-4af1-8295-e69b4664b6f3"
   },
   "source": [
    "# <font color=#323232>Playtika Project: Tweet Sentiment Prediction</font>\n",
    "\n",
    "### <font color=#333333>1. Data | Libraries | Feature Extraction</font>\n",
    "### <font color=#333333>2. Data Exploration & Data-Preprocessing</font>\n",
    "### <font color=#333333>3. Feature Matrix</font>\n",
    "### <font color=#333333>4. Tweet Classification</font>\n",
    "#### <font color=#404040>&emsp;&emsp;5.1 Learning-to-Rank (LTR) Implementations</font>\n",
    "#### <font color=#404040>&emsp;&emsp;5.2 Classification ML Models</font>\n",
    "\n",
    "\n",
    "\n",
    "\n",
    "***"
   ]
  },
  {
   "cell_type": "markdown",
   "metadata": {
    "_cell_guid": "e36ccf4b-14fd-4a3b-8daf-9292cff12a3c",
    "_uuid": "6e0542a9-9f20-4dbb-8521-728402fd6fa3"
   },
   "source": [
    "# 1. Import Libraries | Datasets"
   ]
  },
  {
   "cell_type": "code",
   "execution_count": 1,
   "metadata": {
    "_cell_guid": "43c03b95-3af1-4c38-86f0-9f22f54065d2",
    "_uuid": "4d3ce71c-6aa0-4daa-8f98-7c0590f39b13",
    "jupyter": {
     "outputs_hidden": false
    }
   },
   "outputs": [],
   "source": [
    "# Notebook created by Nikolaos Maroulis as part of the Technical Interview's case study\n",
    "\n",
    "import pandas as pd\n",
    "import numpy as np\n",
    "import os, warnings\n",
    "from sklearn import preprocessing\n",
    "from sklearn.impute import SimpleImputer\n",
    "from sklearn.preprocessing import Normalizer, StandardScaler\n",
    "from sklearn.preprocessing import MinMaxScaler\n",
    "from sklearn.exceptions import DataConversionWarning\n",
    "import matplotlib.pyplot as plt\n",
    "import seaborn as sns\n",
    "from sklearn.tree import DecisionTreeClassifier\n",
    "from sklearn.ensemble import RandomForestClassifier\n",
    "from sklearn.decomposition import PCA\n",
    "\n",
    "warnings.filterwarnings(action='ignore', category=DataConversionWarning) # ignore some Scikit Learn warnings\n",
    "pd.set_option(\"display.max_columns\", None) # enables the printing of all columns\n",
    "\n",
    "for dirname, _, filenames in os.walk('/kaggle/input'):\n",
    "    for filename in filenames:\n",
    "        print(os.path.join(dirname, filename))\n",
    "\n",
    "\n",
    "raw_df = pd.read_csv('./datasets/tweet_emotions.csv')"
   ]
  },
  {
   "cell_type": "markdown",
   "metadata": {
    "_cell_guid": "16cee1f4-988c-4612-901c-b9ec1e8e5a1e",
    "_uuid": "1c273b0d-183d-4a55-8252-bce77be19053"
   },
   "source": [
    "# 2. Data Exploration & Data-Preprocessing"
   ]
  },
  {
   "cell_type": "markdown",
   "metadata": {
    "_cell_guid": "a960f563-33f8-4ddd-a6f6-8f359305cd01",
    "_uuid": "df023626-942a-4dc5-b674-2f2060269760"
   },
   "source": [
    "### Dataframe dimensions"
   ]
  },
  {
   "cell_type": "code",
   "execution_count": null,
   "metadata": {
    "_cell_guid": "820b7992-a0c2-4e61-a084-274ba6f435c6",
    "_uuid": "74b1d40c-88ca-473c-a4a7-0996f8501866",
    "jupyter": {
     "outputs_hidden": false
    }
   },
   "outputs": [],
   "source": [
    "if len(raw_df) > 0:\n",
    "    print(f'Length of df {len(raw_df)}, number of columns {len(raw_df.columns)}, dimensions {raw_df.shape}, number of elements {raw_df.size}')\n",
    "else:\n",
    "    print(f'Problem loading df, df is empty.')"
   ]
  },
  {
   "cell_type": "markdown",
   "metadata": {
    "_cell_guid": "d1c09203-6100-4895-8809-58f4f36efe2c",
    "_uuid": "a065a5cc-c841-42c0-a2c9-e22bdd58f6e1"
   },
   "source": [
    "### Dataframe Overview"
   ]
  },
  {
   "cell_type": "code",
   "execution_count": 61,
   "metadata": {
    "_cell_guid": "a8fe0d8c-897c-40da-94b6-e03acb4b2e0f",
    "_uuid": "0bdabb65-7675-4561-bf2d-3be2e828f8c7",
    "jupyter": {
     "outputs_hidden": false
    }
   },
   "outputs": [
    {
     "name": "stdout",
     "output_type": "stream",
     "text": [
      "<class 'pandas.core.frame.DataFrame'>\n",
      "RangeIndex: 40000 entries, 0 to 39999\n",
      "Data columns (total 3 columns):\n",
      " #   Column     Non-Null Count  Dtype \n",
      "---  ------     --------------  ----- \n",
      " 0   tweet_id   40000 non-null  int64 \n",
      " 1   sentiment  40000 non-null  object\n",
      " 2   content    40000 non-null  object\n",
      "dtypes: int64(1), object(2)\n",
      "memory usage: 7.7 MB\n"
     ]
    }
   ],
   "source": [
    "raw_df.info(memory_usage='deep')"
   ]
  },
  {
   "cell_type": "markdown",
   "metadata": {},
   "source": [
    "#### Statistics help us get some insights and allowes for an initial inspection of outliers \n",
    "##### In this case it is not very helpful"
   ]
  },
  {
   "cell_type": "code",
   "execution_count": 62,
   "metadata": {
    "_cell_guid": "f460224f-a2e7-4ba4-b483-4646df17c8fc",
    "_uuid": "c5a41b4f-026f-4dcf-995e-7f49043249d6",
    "jupyter": {
     "outputs_hidden": false
    }
   },
   "outputs": [
    {
     "data": {
      "text/html": [
       "<div>\n",
       "<style scoped>\n",
       "    .dataframe tbody tr th:only-of-type {\n",
       "        vertical-align: middle;\n",
       "    }\n",
       "\n",
       "    .dataframe tbody tr th {\n",
       "        vertical-align: top;\n",
       "    }\n",
       "\n",
       "    .dataframe thead th {\n",
       "        text-align: right;\n",
       "    }\n",
       "</style>\n",
       "<table border=\"1\" class=\"dataframe\">\n",
       "  <thead>\n",
       "    <tr style=\"text-align: right;\">\n",
       "      <th></th>\n",
       "      <th>tweet_id</th>\n",
       "      <th>sentiment</th>\n",
       "      <th>content</th>\n",
       "    </tr>\n",
       "  </thead>\n",
       "  <tbody>\n",
       "    <tr>\n",
       "      <th>count</th>\n",
       "      <td>4.000000e+04</td>\n",
       "      <td>40000</td>\n",
       "      <td>40000</td>\n",
       "    </tr>\n",
       "    <tr>\n",
       "      <th>unique</th>\n",
       "      <td>NaN</td>\n",
       "      <td>13</td>\n",
       "      <td>39827</td>\n",
       "    </tr>\n",
       "    <tr>\n",
       "      <th>top</th>\n",
       "      <td>NaN</td>\n",
       "      <td>neutral</td>\n",
       "      <td>I just received a mothers day card from my lovely daughter wishing my a happy mothers day  http://tr.im/kWK9</td>\n",
       "    </tr>\n",
       "    <tr>\n",
       "      <th>freq</th>\n",
       "      <td>NaN</td>\n",
       "      <td>8638</td>\n",
       "      <td>14</td>\n",
       "    </tr>\n",
       "    <tr>\n",
       "      <th>mean</th>\n",
       "      <td>1.845184e+09</td>\n",
       "      <td>NaN</td>\n",
       "      <td>NaN</td>\n",
       "    </tr>\n",
       "    <tr>\n",
       "      <th>std</th>\n",
       "      <td>1.188579e+08</td>\n",
       "      <td>NaN</td>\n",
       "      <td>NaN</td>\n",
       "    </tr>\n",
       "    <tr>\n",
       "      <th>min</th>\n",
       "      <td>1.693956e+09</td>\n",
       "      <td>NaN</td>\n",
       "      <td>NaN</td>\n",
       "    </tr>\n",
       "    <tr>\n",
       "      <th>25%</th>\n",
       "      <td>1.751431e+09</td>\n",
       "      <td>NaN</td>\n",
       "      <td>NaN</td>\n",
       "    </tr>\n",
       "    <tr>\n",
       "      <th>50%</th>\n",
       "      <td>1.855443e+09</td>\n",
       "      <td>NaN</td>\n",
       "      <td>NaN</td>\n",
       "    </tr>\n",
       "    <tr>\n",
       "      <th>75%</th>\n",
       "      <td>1.962781e+09</td>\n",
       "      <td>NaN</td>\n",
       "      <td>NaN</td>\n",
       "    </tr>\n",
       "    <tr>\n",
       "      <th>max</th>\n",
       "      <td>1.966441e+09</td>\n",
       "      <td>NaN</td>\n",
       "      <td>NaN</td>\n",
       "    </tr>\n",
       "  </tbody>\n",
       "</table>\n",
       "</div>"
      ],
      "text/plain": [
       "            tweet_id sentiment  \\\n",
       "count   4.000000e+04     40000   \n",
       "unique           NaN        13   \n",
       "top              NaN   neutral   \n",
       "freq             NaN      8638   \n",
       "mean    1.845184e+09       NaN   \n",
       "std     1.188579e+08       NaN   \n",
       "min     1.693956e+09       NaN   \n",
       "25%     1.751431e+09       NaN   \n",
       "50%     1.855443e+09       NaN   \n",
       "75%     1.962781e+09       NaN   \n",
       "max     1.966441e+09       NaN   \n",
       "\n",
       "                                                                                                             content  \n",
       "count                                                                                                          40000  \n",
       "unique                                                                                                         39827  \n",
       "top     I just received a mothers day card from my lovely daughter wishing my a happy mothers day  http://tr.im/kWK9  \n",
       "freq                                                                                                              14  \n",
       "mean                                                                                                             NaN  \n",
       "std                                                                                                              NaN  \n",
       "min                                                                                                              NaN  \n",
       "25%                                                                                                              NaN  \n",
       "50%                                                                                                              NaN  \n",
       "75%                                                                                                              NaN  \n",
       "max                                                                                                              NaN  "
      ]
     },
     "execution_count": 62,
     "metadata": {},
     "output_type": "execute_result"
    }
   ],
   "source": [
    "raw_df.describe(include='all')"
   ]
  },
  {
   "cell_type": "code",
   "execution_count": 63,
   "metadata": {
    "_cell_guid": "ea28f57c-f11e-4e84-ba82-e8d0c2298117",
    "_uuid": "58682616-ae4e-4c16-b077-cccb92450126",
    "jupyter": {
     "outputs_hidden": false
    }
   },
   "outputs": [
    {
     "data": {
      "text/html": [
       "<div>\n",
       "<style scoped>\n",
       "    .dataframe tbody tr th:only-of-type {\n",
       "        vertical-align: middle;\n",
       "    }\n",
       "\n",
       "    .dataframe tbody tr th {\n",
       "        vertical-align: top;\n",
       "    }\n",
       "\n",
       "    .dataframe thead th {\n",
       "        text-align: right;\n",
       "    }\n",
       "</style>\n",
       "<table border=\"1\" class=\"dataframe\">\n",
       "  <thead>\n",
       "    <tr style=\"text-align: right;\">\n",
       "      <th></th>\n",
       "      <th>tweet_id</th>\n",
       "      <th>sentiment</th>\n",
       "      <th>content</th>\n",
       "    </tr>\n",
       "  </thead>\n",
       "  <tbody>\n",
       "    <tr>\n",
       "      <th>0</th>\n",
       "      <td>1956967341</td>\n",
       "      <td>empty</td>\n",
       "      <td>@tiffanylue i know  i was listenin to bad habit earlier and i started freakin at his part =[</td>\n",
       "    </tr>\n",
       "    <tr>\n",
       "      <th>1</th>\n",
       "      <td>1956967666</td>\n",
       "      <td>sadness</td>\n",
       "      <td>Layin n bed with a headache  ughhhh...waitin on your call...</td>\n",
       "    </tr>\n",
       "    <tr>\n",
       "      <th>2</th>\n",
       "      <td>1956967696</td>\n",
       "      <td>sadness</td>\n",
       "      <td>Funeral ceremony...gloomy friday...</td>\n",
       "    </tr>\n",
       "    <tr>\n",
       "      <th>3</th>\n",
       "      <td>1956967789</td>\n",
       "      <td>enthusiasm</td>\n",
       "      <td>wants to hang out with friends SOON!</td>\n",
       "    </tr>\n",
       "    <tr>\n",
       "      <th>4</th>\n",
       "      <td>1956968416</td>\n",
       "      <td>neutral</td>\n",
       "      <td>@dannycastillo We want to trade with someone who has Houston tickets, but no one will.</td>\n",
       "    </tr>\n",
       "    <tr>\n",
       "      <th>5</th>\n",
       "      <td>1956968477</td>\n",
       "      <td>worry</td>\n",
       "      <td>Re-pinging @ghostridah14: why didn't you go to prom? BC my bf didn't like my friends</td>\n",
       "    </tr>\n",
       "  </tbody>\n",
       "</table>\n",
       "</div>"
      ],
      "text/plain": [
       "     tweet_id   sentiment  \\\n",
       "0  1956967341       empty   \n",
       "1  1956967666     sadness   \n",
       "2  1956967696     sadness   \n",
       "3  1956967789  enthusiasm   \n",
       "4  1956968416     neutral   \n",
       "5  1956968477       worry   \n",
       "\n",
       "                                                                                        content  \n",
       "0  @tiffanylue i know  i was listenin to bad habit earlier and i started freakin at his part =[  \n",
       "1                                  Layin n bed with a headache  ughhhh...waitin on your call...  \n",
       "2                                                           Funeral ceremony...gloomy friday...  \n",
       "3                                                          wants to hang out with friends SOON!  \n",
       "4        @dannycastillo We want to trade with someone who has Houston tickets, but no one will.  \n",
       "5          Re-pinging @ghostridah14: why didn't you go to prom? BC my bf didn't like my friends  "
      ]
     },
     "execution_count": 63,
     "metadata": {},
     "output_type": "execute_result"
    }
   ],
   "source": [
    "raw_df.head(6)"
   ]
  },
  {
   "cell_type": "markdown",
   "metadata": {},
   "source": [
    "### Handle Missing Values in Data\n",
    "##### Note: Missing Data could be removed by:\n",
    "    1) Removing the entire row that contains at least one Null Value\n",
    "    2) Data Imputation - Fill the missing data with average/median of the column"
   ]
  },
  {
   "cell_type": "code",
   "execution_count": 64,
   "metadata": {},
   "outputs": [
    {
     "name": "stdout",
     "output_type": "stream",
     "text": [
      "tweet_id     0\n",
      "sentiment    0\n",
      "content      0\n",
      "dtype: int64\n",
      "No missing values after all :)\n"
     ]
    }
   ],
   "source": [
    "print(raw_df.isna().sum())\n",
    "print(\"No missing values after all :)\")"
   ]
  },
  {
   "cell_type": "markdown",
   "metadata": {},
   "source": [
    "### Data Imputation\n",
    "> Filling missing data, based on statistical operations from other values of the same column\n",
    "\n",
    "**Note**: Data Imputation in this dataset is impossible since there are two significant rows"
   ]
  },
  {
   "cell_type": "code",
   "execution_count": 65,
   "metadata": {},
   "outputs": [],
   "source": [
    "def data_imputation(df):\n",
    "    \n",
    "    nan_count = df.isna().sum().sum()\n",
    "\n",
    "    df['sentiment'] = df['sentiment'].fillna(\"uknown\")\n",
    "\n",
    "    return"
   ]
  },
  {
   "cell_type": "markdown",
   "metadata": {},
   "source": [
    "### Remove Duplication"
   ]
  },
  {
   "cell_type": "code",
   "execution_count": 3,
   "metadata": {},
   "outputs": [
    {
     "name": "stdout",
     "output_type": "stream",
     "text": [
      "Duplicate Rows Deleted 0, Old size: 40000, New size: 40000\n"
     ]
    }
   ],
   "source": [
    "df_size = len(raw_df)\n",
    "raw_df.drop_duplicates(keep=False, inplace=True)\n",
    "df_size_dup = len(raw_df)\n",
    "print(f'Duplicate Rows Deleted {df_size - df_size_dup}, Old size: {df_size}, New size: {df_size_dup}')"
   ]
  },
  {
   "cell_type": "markdown",
   "metadata": {
    "_cell_guid": "a5497de5-f887-432a-ac65-1724169a8531",
    "_uuid": "68e85229-7d28-48c9-ba75-fb5a819e838c"
   },
   "source": [
    "### Show Columns that contain Numerical values\n",
    "> **Note**: Columns that contain Numerical values can be Categorical"
   ]
  },
  {
   "cell_type": "code",
   "execution_count": 4,
   "metadata": {
    "_cell_guid": "da0f49c7-2dd9-4c5f-89ad-4c2c3e87f564",
    "_uuid": "ce1b9554-68c3-4dd6-81c3-14fb1892fb81",
    "jupyter": {
     "outputs_hidden": false
    }
   },
   "outputs": [
    {
     "name": "stdout",
     "output_type": "stream",
     "text": [
      "Columns containing Numerical Values:\n",
      " ['tweet_id']\n",
      "Columns containing non Numerical Values:\n",
      " ['sentiment', 'content']\n"
     ]
    }
   ],
   "source": [
    "num_cols = raw_df._get_numeric_data().columns\n",
    "print('Columns containing Numerical Values:\\n', list(num_cols))\n",
    "print('Columns containing non Numerical Values:\\n', list(set(raw_df.columns) - set(num_cols)))"
   ]
  },
  {
   "cell_type": "markdown",
   "metadata": {},
   "source": [
    "### Class Imbalance\n",
    "> **Note**: Oversampling will be used later in order to balance the dataset"
   ]
  },
  {
   "cell_type": "code",
   "execution_count": 5,
   "metadata": {
    "_cell_guid": "986212dd-6211-4544-9223-50019df8b04a",
    "_uuid": "cbd911bf-e664-4d70-8219-6eb9441d55cc",
    "jupyter": {
     "outputs_hidden": false
    }
   },
   "outputs": [
    {
     "name": "stdout",
     "output_type": "stream",
     "text": [
      "Sentiment Label has 13 unique values.\n",
      "neutral       8638\n",
      "worry         8459\n",
      "happiness     5209\n",
      "sadness       5165\n",
      "love          3842\n",
      "surprise      2187\n",
      "fun           1776\n",
      "relief        1526\n",
      "hate          1323\n",
      "empty          827\n",
      "enthusiasm     759\n",
      "boredom        179\n",
      "anger          110\n",
      "Name: sentiment, dtype: int64\n"
     ]
    }
   ],
   "source": [
    "# Check label balance, count(unique(label))\n",
    "print(\"Sentiment Label has\", len(raw_df['sentiment'].unique()),\"unique values.\")\n",
    "print(raw_df['sentiment'].value_counts())"
   ]
  },
  {
   "cell_type": "markdown",
   "metadata": {},
   "source": [
    "### Content Column Character Count\n",
    "> **Note**: Content texts below a given threshold (i.e. **word_count < 5**) will be considered **outliers**"
   ]
  },
  {
   "cell_type": "code",
   "execution_count": 2,
   "metadata": {},
   "outputs": [
    {
     "name": "stdout",
     "output_type": "stream",
     "text": [
      "Rows Removed for having low number of characters: 4\n"
     ]
    }
   ],
   "source": [
    "# Create a column containing the Character Count\n",
    "raw_df['content_char_count'] = raw_df['content'].str.len()\n",
    "\n",
    "# Statistical Insights\n",
    "raw_df['content_char_count'].describe() \n",
    "\n",
    "#  Remove the whole row, for samples that have a Chharacter count below 5\n",
    "old_shape = raw_df.shape[0]\n",
    "raw_df = raw_df[raw_df['content_char_count'] >= 5]\n",
    "print(f'Rows Removed for having low number of characters: {old_shape-raw_df.shape[0]}')"
   ]
  },
  {
   "cell_type": "markdown",
   "metadata": {},
   "source": [
    "### Data Visualization"
   ]
  },
  {
   "cell_type": "code",
   "execution_count": 3,
   "metadata": {},
   "outputs": [
    {
     "data": {
      "image/png": "[encoded data removed]",
      "text/plain": [
       "<Figure size 1152x288 with 1 Axes>"
      ]
     },
     "metadata": {
      "needs_background": "light"
     },
     "output_type": "display_data"
    }
   ],
   "source": [
    "plt.figure(figsize=(16,4))\n",
    "ax = sns.boxplot(x=\"sentiment\",y=\"content_char_count\",data=raw_df, palette=\"Set3\")\n",
    "plt.show()"
   ]
  },
  {
   "cell_type": "code",
   "execution_count": 22,
   "metadata": {},
   "outputs": [
    {
     "data": {
      "image/png": "[encoded data removed]",
      "text/plain": [
       "<Figure size 1008x576 with 1 Axes>"
      ]
     },
     "metadata": {
      "needs_background": "light"
     },
     "output_type": "display_data"
    }
   ],
   "source": [
    "ax = raw_df['sentiment'].value_counts().plot(kind='bar',\n",
    "                                    figsize=(14,8),\n",
    "                                    title=\"Sentiment Count\")"
   ]
  },
  {
   "cell_type": "markdown",
   "metadata": {},
   "source": [
    "### Encode Label\n",
    ">    * Label Encoding - Encode Categorical Values with value between 0 and n_classes-1.\n",
    ">    * Ordinal Encoding - Encode categorical features using an ordinal encoding scheme.\n",
    ">    * **OneHot Encoding** - Encode categorical features as a one-hot numeric array."
   ]
  },
  {
   "cell_type": "code",
   "execution_count": 72,
   "metadata": {},
   "outputs": [],
   "source": [
    "# No Data Scaling/Normalization/Regularization is required\n",
    "\n",
    "def categorical_data_encoding(df):\n",
    "\n",
    "    le = preprocessing.LabelEncoder()\n",
    "\n",
    "    return\n",
    "\n",
    "# categorical_data_encoding(raw_df)"
   ]
  },
  {
   "cell_type": "code",
   "execution_count": null,
   "metadata": {},
   "outputs": [],
   "source": []
  },
  {
   "cell_type": "code",
   "execution_count": 4,
   "metadata": {},
   "outputs": [
    {
     "name": "stdout",
     "output_type": "stream",
     "text": [
      "Average word character count BEFORE data cleaning is 73.41279127912792\n",
      "Average word character count AFTER data cleaning is 66.1998699869987\n"
     ]
    }
   ],
   "source": [
    "import re # Regex Library \n",
    "\n",
    "def replace_emoticons(txt):\n",
    "\n",
    "    # Replace emoticons with a word describing the emoticon\n",
    "    emoticons_happy = set([':-)', ':)', ':]', ':3', '=]', '=)'])\n",
    "\n",
    "    emoticons_sad = set([':(',\"=[\" ,\":'(\", ':@', ':-(', ':[', ':-[', '>.<', ':-c',':c'])\n",
    "    \n",
    "    emoticons_surprised = set([':O', ':o', ':-o', ':-O'])\n",
    "\n",
    "    words = txt.split()\n",
    "    new_w = []\n",
    "    for w in words:\n",
    "        if w in emoticons_happy:\n",
    "            new_w.append(\"happy\")\n",
    "        elif w in emoticons_sad:\n",
    "            new_w.append(\"sad\") \n",
    "        elif w in emoticons_surprised:\n",
    "            new_w.append(\"surprised\") \n",
    "        else:\n",
    "            new_w.append(w)\n",
    "    txt = \" \".join(new_w)\n",
    "    return txt\n",
    "\n",
    "\n",
    "def data_cleaning(txt):\n",
    "    txt = replace_emoticons(txt)     # replace emoticons with a word describing the emoticon\n",
    "    txt = re.sub('@[^\\s]+', '', txt) # remove usernames\n",
    "    txt = re.sub('RT[\\s]+', '', txt) # remove retweet 'RT'\n",
    "    txt = re.sub('#', '', txt)       # remove '#'\n",
    "    txt = re.sub('((www\\.[^\\s]+)|(https?://[^\\s]+))', '', txt)  # remove URLs inside the text\n",
    "    # train_df['tokenized_content'] = train_df.apply(lambda row: row['content'].lower(), axis=1)\n",
    "\n",
    "    return txt\n",
    "\n",
    "print('Average word character count BEFORE data cleaning is',raw_df['content_char_count'].mean())\n",
    "raw_df['content'] = raw_df['content'].apply(data_cleaning)\n",
    "raw_df['content_char_count'] = raw_df['content'].str.len()\n",
    "print('Average word character count AFTER data cleaning is',raw_df['content_char_count'].mean())"
   ]
  },
  {
   "cell_type": "code",
   "execution_count": 5,
   "metadata": {},
   "outputs": [
    {
     "name": "stdout",
     "output_type": "stream",
     "text": [
      "Rows Removed for having low number of characters: 106\n"
     ]
    }
   ],
   "source": [
    "# Perform the same operation as before and remove rows with Char Count <5\n",
    "old_shape = raw_df.shape[0]\n",
    "raw_df = raw_df[raw_df['content_char_count'] >= 5]\n",
    "print(f'Rows Removed for having low number of characters: {old_shape-raw_df.shape[0]}')"
   ]
  },
  {
   "cell_type": "markdown",
   "metadata": {},
   "source": [
    "### Tweet Id and the Character count columns are redundant"
   ]
  },
  {
   "cell_type": "code",
   "execution_count": 6,
   "metadata": {},
   "outputs": [],
   "source": [
    "raw_df = raw_df[['content','sentiment']]"
   ]
  },
  {
   "cell_type": "code",
   "execution_count": null,
   "metadata": {},
   "outputs": [],
   "source": [
    "pd.set_option('display.max_colwidth', None)\n",
    "raw_df.head(10)"
   ]
  },
  {
   "cell_type": "code",
   "execution_count": null,
   "metadata": {},
   "outputs": [],
   "source": [
    "pd.set_option('display.max_colwidth', None)\n",
    "raw_df.head(50)"
   ]
  },
  {
   "cell_type": "code",
   "execution_count": null,
   "metadata": {},
   "outputs": [],
   "source": [
    "pd.set_option('display.max_colwidth', None)\n",
    "raw_df.head(50)"
   ]
  },
  {
   "cell_type": "markdown",
   "metadata": {
    "_cell_guid": "e11b45f0-8ea5-4324-b78d-31337f2d3d00",
    "_uuid": "ffd5b4eb-c5a0-4f3d-aba4-e36cd62ac2f2"
   },
   "source": [
    "# 3. Feature Matrix Creation"
   ]
  },
  {
   "cell_type": "markdown",
   "metadata": {
    "_cell_guid": "d80ed9bb-51d0-465f-8da9-d838f448030a",
    "_uuid": "12539b87-28d3-4c95-96c0-547aacacdce6"
   },
   "source": [
    "> ### Implementations:\n",
    ">    * Matrix Vectorization using **Bag of Words (BoW)** \n",
    ">        * Convert a collection of text documents to a matrix of token counts\n",
    ">        * Ingore specific terms (i.e. stop words) because they don't hold any value\n",
    ">        * Make every Character lowercase, because letter Capitalization doesn't matter in this specific implementation\n",
    ">    * **Tf-idf Transformation**, in plain terms a word that occurs many times has less significance (weight) in the end result (i.e. the word 'the', 'a', 'to' etc.), following the zipf's law\n",
    "\n",
    "**Note**: State-of-the-art Solutions like **RankNet**, **ListNET**, **LamdaRank**, **LambdaMART** etc., although they probably perform better, were not used in order to present a more custom solution"
   ]
  },
  {
   "cell_type": "code",
   "execution_count": 7,
   "metadata": {},
   "outputs": [
    {
     "name": "stdout",
     "output_type": "stream",
     "text": [
      "39890\n"
     ]
    }
   ],
   "source": [
    "from sklearn.feature_extraction.text import TfidfTransformer\n",
    "from sklearn.feature_extraction.text import CountVectorizer\n",
    "from sklearn.feature_extraction.text import TfidfVectorizer\n",
    "from sklearn.linear_model import SGDClassifier\n",
    "from sklearn.pipeline import Pipeline\n",
    "from sklearn import svm\n",
    "from sklearn import metrics\n",
    "from sklearn.metrics import precision_score, recall_score, f1_score\n",
    "from sklearn.metrics import classification_report, confusion_matrix, accuracy_score\n",
    "from sklearn.model_selection import GridSearchCV\n",
    "\n",
    "\n",
    "import warnings\n",
    "warnings.filterwarnings('always')\n",
    "\n",
    "# Bag of words Vectorizer\n",
    "count_vect = CountVectorizer(analyzer='word', stop_words='english', lowercase=True)\n",
    "tfidf_transformer = TfidfTransformer() # Tf-Idf Transformation\n",
    "# TfIdf Vectorizer is both a vectorizer and a tfidf transformer\n",
    "# Therefore TfidfVectorizer is Equivalent to CountVectorizer followed by TfidfTransformer.\n",
    "tfidf_vectorizer = TfidfVectorizer(max_features=800, stop_words='english', lowercase=True, ngram_range=(1, 2),smooth_idf=False)\n",
    "\n",
    "train_df = raw_df.copy()\n",
    "print(train_df.shape[0])"
   ]
  },
  {
   "cell_type": "markdown",
   "metadata": {},
   "source": [
    "# 4. Tweet Classification\n",
    "#### ***Model Training, HyperParameter Tuning and Evaluation***\n",
    "> #### **Note**: \n",
    ">   * The Hyperparameter Tuning is performed using **Grid Search Optimization** \n",
    ">   * The main Evaluation Metric I tried to optimize was **accuracy**, F1-score and Recall, in order to avoid Underfit/Overfit\n",
    ">   * **Cosine Similarity** could also be used to find similar tweets having >90% similarity and choose \n"
   ]
  },
  {
   "cell_type": "markdown",
   "metadata": {},
   "source": [
    "## 4.1 Data Preparation"
   ]
  },
  {
   "cell_type": "markdown",
   "metadata": {},
   "source": [
    "### 4.1.1 Functions for train/test dataset split\n",
    ">   * 10-fold Cross Validation\n",
    "\n",
    "Note: The sklearn CV library could also be utilized, but a custom function is sometimes better"
   ]
  },
  {
   "cell_type": "code",
   "execution_count": 8,
   "metadata": {},
   "outputs": [],
   "source": [
    "from sklearn.model_selection import train_test_split\n",
    "\n",
    "def k_fold_cross_validation_metrics(model, model_name, k):\n",
    "    \"\"\"ten fold cross validation using the input model using sklearn metrics\"\"\"\n",
    "    \n",
    "    fold_size = int (np.size(train_df,0) / 10 ) \n",
    "    \n",
    "    acc = []\n",
    "    precision = []\n",
    "    recall = []\n",
    "    f1_sc = []\n",
    "    \n",
    "    for i in range(k):\n",
    "        \n",
    "        from_ = i*fold_size\n",
    "        to_ = (i+1)*fold_size\n",
    "        if i == k-1:\n",
    "            to_ = train_df.shape[0]\n",
    "\n",
    "        test_X = train_df['content'][from_:to_]    # Validation Set\n",
    "        test_Y = train_df['sentiment'][from_:to_]\n",
    "        train_set = train_df.drop(train_df.index[from_:to_])  # train_set = np.delete(train_df, np.s_[from_:to_], 0)\n",
    "        train_X = train_set['content']\n",
    "        train_Y = train_set['sentiment']\n",
    "        _ = model.fit(train_X, train_Y)\n",
    "        predicted = model.predict(test_X)\n",
    "        \n",
    "        precision.append(precision_score(test_Y, predicted, average='macro'))\n",
    "        recall.append(recall_score(test_Y, predicted, average='macro'))\n",
    "        acc.append(np.mean(predicted == test_Y))\n",
    "        f1_sc.append(f1_score(test_Y, predicted, average='macro'))\n",
    "        print(f'10-fold CV - Iteration, {i+1}/{k}')\n",
    "    res = [[round(np.mean(acc),3), round(np.std(acc),3)],\n",
    "           [round(np.mean(precision),3), round(np.std(precision),3)], \n",
    "           [round(np.mean(recall),3), round(np.std(recall),3)],\n",
    "            [round(np.mean(f1_sc),3), round(np.std(f1_sc),3)]]\n",
    "    print(\"Model Evaluation:\", \"\\nAccuracy:\", res[0][0],\" - \", res[0][1]*100,\"%\", \n",
    "          \"\\nPrecision:\", res[1][0],\" - \",res[1][1]*100, \"%\", \n",
    "          \"\\nRecall:\", res[2][0],\" - \", res[2][1]*100, \"%\",\n",
    "          \"\\nF1-score:\", res[3][0],\" - \", res[3][1]*100, \"%\")\n",
    "\n",
    "    return res\n",
    "\n",
    "\n",
    "def simple_split(model, model_name):\n",
    "    \"\"\" 0.25 split for test data \"\"\"\n",
    "    \n",
    "    X = train_df['content'].copy().values\n",
    "    y = train_df['sentiment'].copy().values\n",
    "\n",
    "    X_train, X_test, y_train, y_test = train_test_split(X, y, test_size=0.25, random_state=42, shuffle=True)\n",
    "\n",
    "    \n",
    "    res = model.fit(X_train, y_train)\n",
    "    predicted = model.predict(X_test)\n",
    "    result = np.mean(predicted == y_test)\n",
    "    c_report = classification_report(y_test,predicted)\n",
    "    print(\"<split> Accuracy Score for\",model_name,\"is\",result)\n",
    "    return res, c_report"
   ]
  },
  {
   "cell_type": "markdown",
   "metadata": {},
   "source": [
    "### 4.1.2 OverSampling - Handle Class Imbalance\n",
    "\n",
    "> Methods to be tested in order to select features:\n",
    "> * Synthetic Minority Oversampling Technique (**SMOTE**)\n",
    ">      * An algorithm that synthesizes elements for the minority class\n",
    ">      * Removing the instances of the majority class of each pair increases the space between the two classes\n",
    "> * **ADASYN** - generalized form of the SMOTE algorithm.\n",
    "> * **SMOTE+TOMEK** is such a hybrid technique that aims to clean overlapping data points for each of the classes distributed in sample space.\n",
    ">      * After the oversampling is done by SMOTE, the class clusters may be invading each other’s space. \n",
    "\n",
    "**Note**: [**X_os, y_os**] contain the auugmented Data (after Oversampling) used for Training/Validation \n"
   ]
  },
  {
   "cell_type": "code",
   "execution_count": 39,
   "metadata": {},
   "outputs": [],
   "source": [
    "from imblearn.over_sampling import SMOTE, ADASYN\n",
    "from imblearn.combine import SMOTETomek\n",
    "\n",
    "oversample = ADASYN(sampling_strategy='minority', random_state=8) # SMOTETomek(random_state=130)\n",
    "\n",
    "final_vectorizer_params = {\n",
    "    \"smooth_idf\": True,\n",
    "    \"analyzer\": 'word',\n",
    "    \"stop_words\": 'english',\n",
    "    \"lowercase\": True,\n",
    "    \"ngram_range\": (1,2),\n",
    "    \"max_features\": 1200,\n",
    "}\n",
    "\n",
    "tf_idf_vec = TfidfVectorizer(**final_vectorizer_params)\n",
    "\n",
    "X_os = train_df['content'].copy()\n",
    "y_os = train_df['sentiment'].copy()\n",
    "\n",
    "X_os = tf_idf_vec.fit_transform(X_os)\n",
    "\n",
    "# old_class_pop = y_os.mean()\n",
    "for i in range(11):\n",
    "    X_os,y_os = oversample.fit_resample(X_os, y_os)\n",
    "\n",
    "# print(\"Initial Class balance:\",old_class_pop*100,\", After SMOTE:\", y_os.mean()*100)\n",
    "# print(X_os.shape)"
   ]
  },
  {
   "cell_type": "code",
   "execution_count": 40,
   "metadata": {},
   "outputs": [
    {
     "name": "stdout",
     "output_type": "stream",
     "text": [
      "(114494, 1200)\n"
     ]
    }
   ],
   "source": [
    "print(X_os.shape)"
   ]
  },
  {
   "cell_type": "code",
   "execution_count": 41,
   "metadata": {},
   "outputs": [
    {
     "data": {
      "image/png": "[encoded data removed]",
      "text/plain": [
       "<Figure size 1008x576 with 1 Axes>"
      ]
     },
     "metadata": {
      "needs_background": "light"
     },
     "output_type": "display_data"
    }
   ],
   "source": [
    "ax = y_os.value_counts().plot(kind='bar',\n",
    "                                    figsize=(14,8),\n",
    "                                    title=\"Sentiment Count after OverSampling\")"
   ]
  },
  {
   "cell_type": "markdown",
   "metadata": {},
   "source": [
    "## 4.2 Classification Models"
   ]
  },
  {
   "cell_type": "markdown",
   "metadata": {
    "_cell_guid": "e3c70ec6-0ae8-4d43-8377-a00f3c5457ae",
    "_uuid": "94d50a1c-a373-45e4-ada3-77b13d53d244"
   },
   "source": [
    "### 4.2.1 Linear SVM Classifier with Stohastic Gradient Decent\n",
    "> **Note**: BoW and Tf-Idf is are used"
   ]
  },
  {
   "cell_type": "code",
   "execution_count": 28,
   "metadata": {
    "_cell_guid": "311e3f57-6d52-4ffd-92ae-dcd18cae7b8f",
    "_uuid": "a351f890-6da2-4c55-a6a6-b0e6ea9a5562",
    "jupyter": {
     "outputs_hidden": false
    }
   },
   "outputs": [
    {
     "name": "stdout",
     "output_type": "stream",
     "text": [
      "Fitting 5 folds for each of 1 candidates, totalling 5 fits\n"
     ]
    },
    {
     "name": "stderr",
     "output_type": "stream",
     "text": [
      "/home/nik/anaconda3/envs/sentiment_analysis_env/lib/python3.9/site-packages/sklearn/metrics/_classification.py:1308: UndefinedMetricWarning: Precision and F-score are ill-defined and being set to 0.0 in labels with no predicted samples. Use `zero_division` parameter to control this behavior.\n",
      "  _warn_prf(average, modifier, msg_start, len(result))\n",
      "/home/nik/anaconda3/envs/sentiment_analysis_env/lib/python3.9/site-packages/sklearn/metrics/_classification.py:1308: UndefinedMetricWarning: Precision and F-score are ill-defined and being set to 0.0 in labels with no predicted samples. Use `zero_division` parameter to control this behavior.\n",
      "  _warn_prf(average, modifier, msg_start, len(result))\n",
      "/home/nik/anaconda3/envs/sentiment_analysis_env/lib/python3.9/site-packages/sklearn/metrics/_classification.py:1308: UndefinedMetricWarning: Precision and F-score are ill-defined and being set to 0.0 in labels with no predicted samples. Use `zero_division` parameter to control this behavior.\n",
      "  _warn_prf(average, modifier, msg_start, len(result))\n"
     ]
    },
    {
     "name": "stdout",
     "output_type": "stream",
     "text": [
      "<split> Accuracy Score for SVM with SGD is 0.34593402185901934\n",
      "Best parameter (CV score=0.345):\n",
      "{'svm__C': 0.8, 'svm__decision_function_shape': 'ovr', 'svm__kernel': 'linear', 'tfidf_trans__analyzer': 'word', 'tfidf_trans__lowercase': True, 'tfidf_trans__max_features': 1200, 'tfidf_trans__ngram_range': (1, 2), 'tfidf_trans__smooth_idf': True, 'tfidf_trans__stop_words': 'english'}\n",
      "              precision    recall  f1-score   support\n",
      "\n",
      "       anger       0.00      0.00      0.00        19\n",
      "     boredom       0.00      0.00      0.00        45\n",
      "       empty       0.00      0.00      0.00       217\n",
      "  enthusiasm       0.00      0.00      0.00       183\n",
      "         fun       0.21      0.01      0.02       429\n",
      "   happiness       0.33      0.40      0.36      1340\n",
      "        hate       0.56      0.20      0.29       348\n",
      "        love       0.48      0.37      0.42       943\n",
      "     neutral       0.32      0.59      0.42      2114\n",
      "      relief       0.29      0.05      0.08       375\n",
      "     sadness       0.38      0.20      0.26      1300\n",
      "    surprise       0.27      0.02      0.04       555\n",
      "       worry       0.34      0.45      0.39      2105\n",
      "\n",
      "    accuracy                           0.35      9973\n",
      "   macro avg       0.24      0.18      0.18      9973\n",
      "weighted avg       0.33      0.35      0.31      9973\n",
      "\n",
      "[CV] END svm__C=0.8, svm__decision_function_shape=ovr, svm__kernel=linear, tfidf_trans__analyzer=word, tfidf_trans__lowercase=True, tfidf_trans__max_features=1200, tfidf_trans__ngram_range=(1, 2), tfidf_trans__smooth_idf=True, tfidf_trans__stop_words=english; total time= 2.3min\n",
      "[CV] END svm__C=0.8, svm__decision_function_shape=ovr, svm__kernel=linear, tfidf_trans__analyzer=word, tfidf_trans__lowercase=True, tfidf_trans__max_features=1200, tfidf_trans__ngram_range=(1, 2), tfidf_trans__smooth_idf=True, tfidf_trans__stop_words=english; total time= 2.3min\n",
      "[CV] END svm__C=0.8, svm__decision_function_shape=ovr, svm__kernel=linear, tfidf_trans__analyzer=word, tfidf_trans__lowercase=True, tfidf_trans__max_features=1200, tfidf_trans__ngram_range=(1, 2), tfidf_trans__smooth_idf=True, tfidf_trans__stop_words=english; total time= 2.3min\n"
     ]
    }
   ],
   "source": [
    "\"\"\"\n",
    "Linear SVM with Stohastic Gradient Decent with Bag of Words and Tf-Idf transformation on features.\n",
    "\"\"\"\n",
    "\n",
    "# Pipeline means that the following vectorization, transformation and model fit will be run in the following sequence\n",
    "text_clf_svm = Pipeline([\n",
    "    # ('vect', CountVectorizer(max_features=200, analyzer='word', stop_words='english', lowercase=True)),\n",
    "    # ('tfidf', TfidfTransformer()),\n",
    "    ('tfidf_trans', TfidfVectorizer()),\n",
    "    ('svm', svm.SVC()),])\n",
    "\n",
    "\n",
    "param_grid = {\n",
    "    \"tfidf_trans__smooth_idf\": [True],\n",
    "    \"tfidf_trans__analyzer\": ['word'],\n",
    "    \"tfidf_trans__stop_words\": ['english'],\n",
    "    \"tfidf_trans__lowercase\": [True],\n",
    "    \"tfidf_trans__ngram_range\": [(1,2)],\n",
    "    \"tfidf_trans__max_features\": [1200],\n",
    "    \"svm__kernel\": ['linear'],\n",
    "    \"svm__C\": [0.8],\n",
    "    \"svm__decision_function_shape\": ['ovr'],\n",
    "}\n",
    "\n",
    "\n",
    "search = GridSearchCV(text_clf_svm, param_grid, n_jobs=-1, verbose=1)\n",
    "\n",
    "\n",
    "res = simple_split(search, \"SVM with SGD\")\n",
    "\n",
    "print(\"Best parameter (CV score=%0.3f):\" % res[0].best_score_)\n",
    "print(res[0].best_params_)\n",
    "\n",
    "print(res[1])\n",
    "# text_clf_svm_res = k_fold_cross_validation_metrics(text_clf_svm,'SVM with Stohastic Gradient Decent', 2)"
   ]
  },
  {
   "cell_type": "markdown",
   "metadata": {},
   "source": [
    "#### 4.2.1.1 Linear SVM Classifier with Stohastic Gradient Decent using ***Augmented Data***"
   ]
  },
  {
   "cell_type": "code",
   "execution_count": 52,
   "metadata": {},
   "outputs": [
    {
     "name": "stdout",
     "output_type": "stream",
     "text": [
      "              precision    recall  f1-score   support\n",
      "\n",
      "       anger       0.47      1.00      0.64      2178\n",
      "     boredom       0.73      0.77      0.75      2158\n",
      "       empty       0.26      0.55      0.35      2150\n",
      "  enthusiasm       0.39      0.47      0.43      2215\n",
      "         fun       0.36      0.28      0.32      2147\n",
      "   happiness       0.35      0.35      0.35      2583\n",
      "        hate       0.53      0.39      0.45      2219\n",
      "        love       0.49      0.35      0.41      1845\n",
      "     neutral       0.24      0.15      0.18      2146\n",
      "      relief       0.38      0.28      0.32      2215\n",
      "     sadness       0.37      0.29      0.33      2486\n",
      "    surprise       0.35      0.18      0.24      2164\n",
      "       worry       0.32      0.21      0.25      2118\n",
      "\n",
      "    accuracy                           0.40     28624\n",
      "   macro avg       0.40      0.41      0.39     28624\n",
      "weighted avg       0.40      0.40      0.39     28624\n",
      "\n",
      "<split> Accuracy Score for is 0.4043110676355506\n"
     ]
    }
   ],
   "source": [
    "\n",
    "final_model_params = {\n",
    "    \"kernel\": 'linear',\n",
    "    \"C\": 0.8,\n",
    "    \"decision_function_shape\": 'ovr',\n",
    "}\n",
    "\n",
    "svm_model = svm.SVC(**final_model_params)\n",
    "\n",
    "\n",
    "X_train, X_test, y_train, y_test = train_test_split(X_os, y_os, test_size=0.25, random_state=42, shuffle=True)\n",
    "\n",
    "    \n",
    "svm_model.fit(X_train, y_train)\n",
    "\n",
    "predicted = svm_model.predict(X_test)\n",
    "\n",
    "result = np.mean(predicted == y_test)\n",
    "\n",
    "print(classification_report(y_test,predicted))\n",
    "\n",
    "print(\"<split> Accuracy Score for is\",result)"
   ]
  },
  {
   "cell_type": "markdown",
   "metadata": {},
   "source": [
    "### 4.2.2 Quadratic Discriminant Analysis with SVD\n",
    "> **Note**: BoW, Tf-Idf and SVD"
   ]
  },
  {
   "cell_type": "code",
   "execution_count": null,
   "metadata": {},
   "outputs": [],
   "source": [
    "\"\"\"\n",
    "Needs SVD because Matrix is too sparse\n",
    "\"\"\"\n",
    "\n",
    "from sklearn.discriminant_analysis import QuadraticDiscriminantAnalysis\n",
    "from sklearn.decomposition import TruncatedSVD\n",
    "\n",
    "\n",
    "qda = Pipeline([\n",
    "    ('vect', CountVectorizer(stop_words='english')),\n",
    "    ('tfidf', TfidfTransformer()),\n",
    "    ('svd', TruncatedSVD(n_components=2000)),\n",
    "    ('qda', QuadraticDiscriminantAnalysis()),])\n",
    "\n",
    "\n",
    "res = simple_split(qda,\"QDA with SVD\")\n",
    "print(res)"
   ]
  },
  {
   "cell_type": "markdown",
   "metadata": {},
   "source": [
    "### 4.2.3 KNN\n",
    "> **Note**: BoW and Tf-Idf"
   ]
  },
  {
   "cell_type": "code",
   "execution_count": 28,
   "metadata": {},
   "outputs": [
    {
     "name": "stdout",
     "output_type": "stream",
     "text": [
      "<split> Accuracy Score for KNN is 0.272836658979244\n",
      "Best parameter (CV score=0.276):\n",
      "{'knn__n_neighbors': 15, 'tfidf_trans__analyzer': 'word', 'tfidf_trans__lowercase': True, 'tfidf_trans__max_features': 400, 'tfidf_trans__ngram_range': (1, 2), 'tfidf_trans__smooth_idf': True}\n"
     ]
    }
   ],
   "source": [
    "from sklearn.neighbors import KNeighborsClassifier\n",
    "\n",
    "knn = Pipeline([\n",
    "    ('tfidf_trans', TfidfVectorizer(stop_words='english',smooth_idf=False)),\n",
    "    ('knn', KNeighborsClassifier(n_neighbors=3)),])\n",
    "\n",
    "\n",
    "param_grid = {\n",
    "    \"tfidf_trans__smooth_idf\": [True, False],\n",
    "    \"tfidf_trans__analyzer\": ['word'],\n",
    "    \"tfidf_trans__lowercase\": [True],\n",
    "    \"tfidf_trans__ngram_range\": [(1, 1), (1,2),(1, 3)],\n",
    "    \"tfidf_trans__max_features\": [300, 400, 800, 1000, 1200],\n",
    "    \"knn__n_neighbors\": [15],\n",
    "}\n",
    "\n",
    "final_param_grid = {\n",
    "    \"tfidf_trans__smooth_idf\": [True],\n",
    "    \"tfidf_trans__analyzer\": ['word'],\n",
    "    \"tfidf_trans__lowercase\": [True],\n",
    "    \"tfidf_trans__ngram_range\": [(1,2)],\n",
    "    \"tfidf_trans__max_features\": [400],\n",
    "    \"knn__n_neighbors\": [15],\n",
    "}\n",
    "\n",
    "\n",
    "search = GridSearchCV(knn, final_param_grid, n_jobs=-1)\n",
    "\n",
    "\n",
    "search = simple_split(search, \"KNN\")\n",
    "print(\"Best parameter (CV score=%0.3f):\" % search[0].best_score_)\n",
    "print(search[0].best_params_)\n",
    "print(search[1])\n",
    "\n",
    "# <split> Accuracy Score for KNN is 0.2753275327532753\n",
    "# Best parameter (CV score=0.272):"
   ]
  },
  {
   "cell_type": "markdown",
   "metadata": {},
   "source": [
    "### 4.2.4 Neural Network (Feed-Forward) using Tensorflow2.0"
   ]
  },
  {
   "cell_type": "code",
   "execution_count": 29,
   "metadata": {},
   "outputs": [
    {
     "name": "stdout",
     "output_type": "stream",
     "text": [
      "Fitting 5 folds for each of 1 candidates, totalling 5 fits\n",
      "<split> Accuracy Score for Neural Network - MLP with BoW is 0.2621076907650657\n",
      "Best parameter (CV score=0.261):\n",
      "{'mlp__activation': 'relu', 'mlp__alpha': 0.001, 'mlp__batch_size': 'auto', 'mlp__hidden_layer_sizes': (128, 64, 32), 'mlp__learning_rate': 'constant', 'mlp__learning_rate_init': 0.003, 'mlp__max_iter': 150, 'mlp__solver': 'adam', 'tfidf_trans__analyzer': 'word', 'tfidf_trans__lowercase': True, 'tfidf_trans__max_features': 1200, 'tfidf_trans__ngram_range': (1, 2), 'tfidf_trans__smooth_idf': True, 'tfidf_trans__stop_words': 'english'}\n",
      "              precision    recall  f1-score   support\n",
      "\n",
      "       anger       0.04      0.05      0.04        19\n",
      "     boredom       0.09      0.04      0.06        45\n",
      "       empty       0.01      0.00      0.01       217\n",
      "  enthusiasm       0.01      0.01      0.01       183\n",
      "         fun       0.09      0.10      0.09       429\n",
      "   happiness       0.28      0.26      0.27      1340\n",
      "        hate       0.22      0.15      0.18       348\n",
      "        love       0.32      0.31      0.32       943\n",
      "     neutral       0.31      0.39      0.34      2114\n",
      "      relief       0.12      0.10      0.11       375\n",
      "     sadness       0.26      0.22      0.24      1300\n",
      "    surprise       0.09      0.10      0.09       555\n",
      "       worry       0.32      0.32      0.32      2105\n",
      "\n",
      "    accuracy                           0.26      9973\n",
      "   macro avg       0.17      0.16      0.16      9973\n",
      "weighted avg       0.26      0.26      0.26      9973\n",
      "\n",
      "[CV] END svm__C=0.8, svm__decision_function_shape=ovr, svm__kernel=linear, tfidf_trans__analyzer=word, tfidf_trans__lowercase=True, tfidf_trans__max_features=1200, tfidf_trans__ngram_range=(1, 2), tfidf_trans__smooth_idf=True, tfidf_trans__stop_words=english; total time= 2.2min\n",
      "[CV] END svm__C=0.8, svm__decision_function_shape=ovr, svm__kernel=linear, tfidf_trans__analyzer=word, tfidf_trans__lowercase=True, tfidf_trans__max_features=1200, tfidf_trans__ngram_range=(1, 2), tfidf_trans__smooth_idf=True, tfidf_trans__stop_words=english; total time= 1.6min\n",
      "[CV] END mlp__activation=relu, mlp__alpha=0.001, mlp__batch_size=auto, mlp__hidden_layer_sizes=(128, 64, 32), mlp__learning_rate=constant, mlp__learning_rate_init=0.003, mlp__max_iter=150, mlp__solver=adam, tfidf_trans__analyzer=word, tfidf_trans__lowercase=True, tfidf_trans__max_features=1200, tfidf_trans__ngram_range=(1, 2), tfidf_trans__smooth_idf=True, tfidf_trans__stop_words=english; total time= 3.2min\n",
      "[CV] END mlp__activation=relu, mlp__alpha=0.001, mlp__batch_size=auto, mlp__hidden_layer_sizes=(128, 64, 32), mlp__learning_rate=constant, mlp__learning_rate_init=0.003, mlp__max_iter=150, mlp__solver=adam, tfidf_trans__analyzer=word, tfidf_trans__lowercase=True, tfidf_trans__max_features=1200, tfidf_trans__ngram_range=(1, 2), tfidf_trans__smooth_idf=True, tfidf_trans__stop_words=english; total time= 3.7min\n",
      "[CV] END mlp__activation=relu, mlp__alpha=0.001, mlp__batch_size=auto, mlp__hidden_layer_sizes=(128, 64, 32), mlp__learning_rate=constant, mlp__learning_rate_init=0.003, mlp__max_iter=150, mlp__solver=adam, tfidf_trans__analyzer=word, tfidf_trans__lowercase=True, tfidf_trans__max_features=1200, tfidf_trans__ngram_range=(1, 2), tfidf_trans__smooth_idf=True, tfidf_trans__stop_words=english; total time= 4.3min\n",
      "[CV] END mlp__activation=relu, mlp__alpha=0.001, mlp__batch_size=auto, mlp__hidden_layer_sizes=(128, 64, 32), mlp__learning_rate=constant, mlp__learning_rate_init=0.003, mlp__max_iter=150, mlp__solver=adam, tfidf_trans__analyzer=word, tfidf_trans__lowercase=True, tfidf_trans__max_features=1200, tfidf_trans__ngram_range=(1, 2), tfidf_trans__smooth_idf=True, tfidf_trans__stop_words=english; total time= 3.1min\n",
      "[CV] END mlp__activation=relu, mlp__alpha=0.001, mlp__batch_size=auto, mlp__hidden_layer_sizes=(128, 64, 32), mlp__learning_rate=constant, mlp__learning_rate_init=0.003, mlp__max_iter=150, mlp__solver=adam, tfidf_trans__analyzer=word, tfidf_trans__lowercase=True, tfidf_trans__max_features=1200, tfidf_trans__ngram_range=(1, 2), tfidf_trans__smooth_idf=True, tfidf_trans__stop_words=english; total time= 1.3min\n"
     ]
    }
   ],
   "source": [
    "from sklearn.neural_network import MLPClassifier\n",
    "\n",
    "\"\"\"\n",
    "MLP Classifier\n",
    "- Stohastic Gradient Decent\n",
    "- RELU Activation function\n",
    "- alpha: L2 penalty\n",
    "\n",
    "\"\"\"\n",
    "\n",
    "text_clf_mlp = Pipeline([\n",
    "    ('tfidf_trans', TfidfVectorizer()),\n",
    "    ('mlp', MLPClassifier()),])\n",
    "\n",
    "lr_ = 0.003 # learning rate\n",
    "l2_ = 0.001 # l2 penalty\n",
    "\n",
    "param_grid = {\n",
    "    \"tfidf_trans__smooth_idf\": [True],\n",
    "    \"tfidf_trans__analyzer\": ['word'],\n",
    "    \"tfidf_trans__stop_words\": ['english'],\n",
    "    \"tfidf_trans__lowercase\": [True],\n",
    "    \"tfidf_trans__ngram_range\": [(1,2)],\n",
    "    \"tfidf_trans__max_features\": [1200],\n",
    "    \"mlp__hidden_layer_sizes\": [(128,64,32 )],\n",
    "    \"mlp__activation\": ['relu'],\n",
    "    \"mlp__solver\": ['adam'],\n",
    "    \"mlp__alpha\": [l2_],\n",
    "    \"mlp__batch_size\": ['auto'],\n",
    "    \"mlp__learning_rate\": ['constant'],\n",
    "    \"mlp__learning_rate_init\": [lr_],\n",
    "    \"mlp__max_iter\": [150],\n",
    "}\n",
    "\n",
    "\n",
    "search = GridSearchCV(text_clf_mlp, param_grid, n_jobs=-1, verbose=2)\n",
    "\n",
    "res = simple_split(search, \"Neural Network - MLP with BoW\")\n",
    "\n",
    "print(\"Best parameter (CV score=%0.3f):\" % res[0].best_score_)\n",
    "print(res[0].best_params_)\n",
    "\n",
    "print(res[1])"
   ]
  },
  {
   "cell_type": "markdown",
   "metadata": {},
   "source": [
    "### 4.2.5 Neural Network (Feed-Forward) using Tensorflow2.0"
   ]
  },
  {
   "cell_type": "code",
   "execution_count": null,
   "metadata": {},
   "outputs": [],
   "source": [
    "# FEATURE_VECTOR_SIZE = len(train_df.columns) - 1  # exclude Label\n",
    "\n",
    "# alpha = [0.05,0.95]\n",
    "# EPOCHS = 6\n",
    "# SAMPLE_THRESHOLD = 100\n",
    "# VALIDATION_SPLIT = 0.25\n",
    "# BATCH_SIZE = 128\n",
    "# VERBOSE = 1\n",
    "\n",
    "\n",
    "# keras_model = Sequential()\n",
    "# keras_model.add(Dense(units=128, input_dim=FEATURE_VECTOR_SIZE,activation='relu'))\n",
    "# keras_model.add(Dense(units=64,activation='relu'))\n",
    "# keras_model.add(Dense(units=32, activation='relu'))\n",
    "# keras_model.add(Dense(1, activation='softmax'))\n",
    "# keras_model.compile(loss='categorical_crossentropy', optimizer='adam')\n",
    "\n",
    "# \"\"\" Fit Data for Model\"\"\"\n",
    "# X = X.astype(float).values\n",
    "# y = y.values\n",
    "\n",
    "# X = train_df.drop('prop_booking_bool', axis=1).copy().values\n",
    "# Y = train_df['prop_booking_bool'].copy().values\n",
    "# X_train, X_test, y_train, y_test = train_test_split(X, y, test_size=0.2, random_state=1) \n",
    "\n",
    "\n",
    "# # \"\"\" One Hot Encode Label \"\"\"\n",
    "# # encoder = LabelEncoder()\n",
    "# # encoder.fit(Y)\n",
    "# # encoded_Y = encoder.transform(Y)\n",
    "# # Y = tf.keras.utils.to_categorical(encoded_Y)\n",
    "\n",
    "# # Y = Y.astype(np.float)\n",
    "# X = np.asarray(X)\n",
    "# X = X[:, np.newaxis]\n",
    "# X = (X - X.mean())/X.std()\n",
    "\n",
    "# with tf.device(\"gpu:0\"):\n",
    "#     history = keras_model.fit(X, Y, validation_split=VALIDATION_SPLIT, epochs=EPOCHS, batch_size=BATCH_SIZE, verbose=VERBOSE, shuffle=True) \n",
    "\n",
    "\n",
    "# plt.plot(history.history['accuracy'])\n",
    "# plt.plot(history.history['val_accuracy'])\n",
    "# plt.title('model accuracy')\n",
    "# plt.ylabel('accuracy')\n",
    "# plt.xlabel('epoch')\n",
    "# plt.legend(['train', 'test'], loc='upper left')\n",
    "# plt.show()\n",
    "# # summarize history for loss\n",
    "# plt.plot(history.history['loss'])\n",
    "# plt.plot(history.history['val_loss'])\n",
    "# plt.title('model loss')\n",
    "# plt.ylabel('loss')\n",
    "# plt.xlabel('epoch')\n",
    "# plt.legend(['train', 'test'], loc='upper left')\n",
    "# plt.show()\n",
    "# # # save_models(keras_model, c)\n",
    "# # keras_model.predict(X)"
   ]
  },
  {
   "cell_type": "markdown",
   "metadata": {
    "_cell_guid": "e2c03871-5a65-4f64-8007-d850206f1c02",
    "_uuid": "a18e865e-8496-4ae5-ac74-b63e8c519e89"
   },
   "source": [
    "## 4.3 Export Vectorizer and ML Model\n",
    "> #### **Note**: Use the pickle library to export the Model and the Vectorizer in order to load them to the rest server"
   ]
  },
  {
   "cell_type": "code",
   "execution_count": 19,
   "metadata": {
    "_cell_guid": "7a54eea4-8e34-431a-92ee-977ef793af7e",
    "_uuid": "4b24e376-ad83-46bf-b20a-b82ef5496ac9",
    "jupyter": {
     "outputs_hidden": false
    }
   },
   "outputs": [],
   "source": [
    "import pickle\n",
    "from joblib import dump, load\n",
    "from sklearn import svm\n",
    "\n",
    "\n",
    "final_vectorizer_params = {\n",
    "    \"smooth_idf\": True,\n",
    "    \"analyzer\": 'word',\n",
    "    \"stop_words\": 'english',\n",
    "    \"lowercase\": True,\n",
    "    \"ngram_range\": (1,2),\n",
    "    \"max_features\": 1200,\n",
    "}\n",
    "\n",
    "final_model_params = {\n",
    "    \"kernel\": 'linear',\n",
    "    \"C\": 0.8,\n",
    "    \"decision_function_shape\": 'ovr',\n",
    "}\n",
    "\n",
    "text_clf_svm = Pipeline([\n",
    "    ('tfidf_trans', TfidfVectorizer(**final_vectorizer_params)),\n",
    "    ('svm', svm.SVC(**final_model_params)),])\n",
    "\n",
    "X = train_df['content'].copy().values\n",
    "y = train_df['sentiment'].copy().values\n",
    "\n",
    "text_clf_svm.fit(X,y)\n",
    "\n",
    "# final_vectorizer = TfidfVectorizer(**final_vectorizer_params)\n",
    "# final_vectorizer.fit(train_df['content'].astype('U'))\n",
    "\n",
    "final_vectorizer = text_clf_svm['tfidf_trans']\n",
    "final_model = text_clf_svm['svm']"
   ]
  },
  {
   "cell_type": "code",
   "execution_count": 20,
   "metadata": {},
   "outputs": [
    {
     "data": {
      "text/plain": [
       "['./models/SA_NLP_Model.joblib']"
      ]
     },
     "execution_count": 20,
     "metadata": {},
     "output_type": "execute_result"
    }
   ],
   "source": [
    "# Save BoW Vectorizer and Tf-Idf Transformator to file \n",
    "with open('./models/vectorizer_tfidf.pickle', 'wb') as fin:\n",
    "    pickle.dump(final_vectorizer, fin)\n",
    "\n",
    "# Save NLP Model to file\n",
    "dump(final_model, './models/SA_NLP_Model.joblib')\n",
    "# with open('./models/SA_NLP_Model.pickle', 'wb') as ffin:\n",
    "#     pickle.dump(final_model, ffin)"
   ]
  },
  {
   "cell_type": "markdown",
   "metadata": {},
   "source": [
    "# TESTING"
   ]
  },
  {
   "cell_type": "code",
   "execution_count": 21,
   "metadata": {},
   "outputs": [],
   "source": [
    "txt = \"im happy and party fun yolo smiling love\"\n",
    "\n",
    "aa =final_vectorizer.transform([txt])"
   ]
  },
  {
   "cell_type": "code",
   "execution_count": 22,
   "metadata": {},
   "outputs": [],
   "source": [
    "aaa = final_model.predict(aa)"
   ]
  },
  {
   "cell_type": "code",
   "execution_count": 23,
   "metadata": {},
   "outputs": [
    {
     "name": "stdout",
     "output_type": "stream",
     "text": [
      "love\n"
     ]
    }
   ],
   "source": [
    "print(aaa[0])"
   ]
  },
  {
   "cell_type": "markdown",
   "metadata": {},
   "source": [
    "### 5.2.5 Deep Neural Network (Feed-Forward MLP) - Tensorflow2.0\n",
    "> Train this DNN Model and assume the **probability** of a sample to belong in class 1 is the **Rank**."
   ]
  },
  {
   "cell_type": "code",
   "execution_count": null,
   "metadata": {},
   "outputs": [],
   "source": []
  },
  {
   "cell_type": "code",
   "execution_count": null,
   "metadata": {},
   "outputs": [],
   "source": []
  }
 ],
 "metadata": {
  "kernelspec": {
   "display_name": "Python 3 (ipykernel)",
   "language": "python",
   "name": "python3"
  },
  "language_info": {
   "codemirror_mode": {
    "name": "ipython",
    "version": 3
   },
   "file_extension": ".py",
   "mimetype": "text/x-python",
   "name": "python",
   "nbconvert_exporter": "python",
   "pygments_lexer": "ipython3",
   "version": "3.9.7"
  }
 },
 "nbformat": 4,
 "nbformat_minor": 4
}
